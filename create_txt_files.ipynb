{
 "cells": [
  {
   "cell_type": "code",
   "execution_count": 24,
   "metadata": {},
   "outputs": [],
   "source": [
    "import json\n",
    "import pandas as pd  \n",
    "import numpy as np\n",
    "import glob"
   ]
  },
  {
   "cell_type": "code",
   "execution_count": 25,
   "metadata": {},
   "outputs": [],
   "source": [
    "# Dataframe containing the ID of the images in train01\n",
    "images_in_train01 = glob.glob(\"Datasets\\\\CrowdHuman\\\\CrowdHuman_train01\\\\Images\\\\*\")\n",
    "images_in_train01 = [i.replace('Datasets\\\\CrowdHuman\\\\CrowdHuman_train01\\\\Images\\\\', '') for i in images_in_train01]\n",
    "images_in_train01 = pd.DataFrame({'ID2': images_in_train01})"
   ]
  },
  {
   "cell_type": "code",
   "execution_count": 26,
   "metadata": {},
   "outputs": [],
   "source": [
    "# Open odgt files\n",
    "with open('Datasets/CrowdHuman/annotation_train.odgt') as f:\n",
    "    lines_train = f.readlines()\n",
    "with open('Datasets/CrowdHuman/annotation_val.odgt') as f:\n",
    "    lines_val = f.readlines()"
   ]
  },
  {
   "cell_type": "code",
   "execution_count": 27,
   "metadata": {},
   "outputs": [],
   "source": [
    "def odgt_to_dataframe(line, images_path):\n",
    "    '''\n",
    "    This function extracts for every line of the odgt file the ID of the image, the the tags ('person' or 'mask'), and the full bounding box related to each of the tags.\n",
    "    \n",
    "    Input: a line from the odgt file\n",
    "    Output: a dataframe  \n",
    "    '''\n",
    "    df = pd.json_normalize(json.loads(line)['gtboxes'])\n",
    "    df['ID'] = '$'+images_path+json.loads(line)['ID']+'.jpg'\n",
    "    df['ID2'] = json.loads(line)['ID']+'.jpg'\n",
    "    # df1 = pd.DataFrame(df['fbox'].to_list(), columns = ['x1', 'y1', 'x2', 'y2'])\n",
    "    df1 = pd.DataFrame(df['fbox'].to_list(), columns = ['x1', 'y1', 'w', 'h'])\n",
    "    df1['x2'] = df1['x1'] + df1['w'] \n",
    "    df1['y2'] = df1['y1'] + df1['h']\n",
    "    df1 = df1.drop(columns=['w','h']) \n",
    "    df1['tag'] = df['tag']\n",
    "    df1['ID'] = df['ID']\n",
    "    df1['ID2'] = df['ID2']\n",
    "    return df1\n"
   ]
  },
  {
   "cell_type": "code",
   "execution_count": 28,
   "metadata": {},
   "outputs": [
    {
     "name": "stdout",
     "output_type": "stream",
     "text": [
      "(0, 6)\n",
      "(127716, 6)\n"
     ]
    }
   ],
   "source": [
    "# Apply odgt_to_dataframe to each line and save all results in a dataset \n",
    "\n",
    "# Training set\n",
    "train_path = 'Datasets/CrowdHuman/CrowdHuman_train01/Images'\n",
    "train0 = pd.concat([odgt_to_dataframe(line = l, images_path = train_path) for l in lines_train])\n",
    "train = pd.merge(train0,images_in_train01,on='ID2') #keep only the information from images in train01\n",
    "train = train.drop(columns=['ID2'])\n",
    "first_column = train.pop('ID')\n",
    "train.insert(0, 'ID', first_column)\n",
    "print(train.shape)\n",
    "\n",
    "# Validation set\n",
    "val_path = 'Datasets/CrowdHuman/CrowdHuman_val/Images'\n",
    "val = pd.concat([odgt_to_dataframe(line = l, images_path = val_path) for l in lines_val])\n",
    "val = val.drop(columns=['ID2'])\n",
    "first_column = val.pop('ID')\n",
    "val.insert(0, 'ID', first_column)\n",
    "print(val.shape)"
   ]
  },
  {
   "cell_type": "code",
   "execution_count": 29,
   "metadata": {},
   "outputs": [],
   "source": [
    "# Dataframe with the classes (person and mask)\n",
    "classes = np.unique(train['tag'])\n",
    "classes = pd.DataFrame({'a':classes, 'b': range(len(classes))})"
   ]
  },
  {
   "cell_type": "code",
   "execution_count": 30,
   "metadata": {},
   "outputs": [],
   "source": [
    "# save in txt\n",
    "train.to_csv('Datasets/CrowdHuman/train.txt', header=None, index=None, sep=' ')\n",
    "val.to_csv('Datasets/CrowdHuman/val.txt', header=None, index=None, sep=' ')\n",
    "classes.to_csv('Datasets/CrowdHuman/classes.txt', header=None, index=None, sep=' ')"
   ]
  }
 ],
 "metadata": {
  "interpreter": {
   "hash": "5d97ad4eda96f4e0dcd5ae4f97368654619500468c6147550d2a1b2a1881f9a5"
  },
  "kernelspec": {
   "display_name": "Python 3.8.10 64-bit",
   "language": "python",
   "name": "python3"
  },
  "language_info": {
   "codemirror_mode": {
    "name": "ipython",
    "version": 3
   },
   "file_extension": ".py",
   "mimetype": "text/x-python",
   "name": "python",
   "nbconvert_exporter": "python",
   "pygments_lexer": "ipython3",
   "version": "3.8.10"
  },
  "orig_nbformat": 4
 },
 "nbformat": 4,
 "nbformat_minor": 2
}
